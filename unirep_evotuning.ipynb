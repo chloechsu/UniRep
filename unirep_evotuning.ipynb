{
 "cells": [
  {
   "cell_type": "markdown",
   "metadata": {},
   "source": [
    "## How to use the UniRep mLSTM \"babbler\". This version demonstrates the 64-unit and the 1900-unit architecture. \n",
    "\n",
    "We recommend getting started with the 64-unit architecture as it is easier and faster to run, but has the same interface as the 1900-unit one."
   ]
  },
  {
   "cell_type": "markdown",
   "metadata": {},
   "source": [
    "Use the 64-unit or the 1900-unit model?"
   ]
  },
  {
   "cell_type": "code",
   "execution_count": 1,
   "metadata": {
    "collapsed": true
   },
   "outputs": [],
   "source": [
    "USE_FULL_1900_DIM_MODEL = False # if True use 1900 dimensional model, else use 64 dimensional one."
   ]
  },
  {
   "cell_type": "markdown",
   "metadata": {},
   "source": [
    "## Setup"
   ]
  },
  {
   "cell_type": "code",
   "execution_count": 2,
   "metadata": {
    "collapsed": true
   },
   "outputs": [],
   "source": [
    "import tensorflow as tf\n",
    "import numpy as np\n",
    "\n",
    "# Set seeds\n",
    "tf.set_random_seed(42)\n",
    "np.random.seed(42)\n",
    "\n",
    "if USE_FULL_1900_DIM_MODEL:\n",
    "    # Sync relevant weight files\n",
    "    !aws s3 sync --no-sign-request --quiet s3://unirep-public/1900_weights/ 1900_weights/\n",
    "    \n",
    "    # Import the mLSTM babbler model\n",
    "    from unirep import babbler1900 as babbler\n",
    "    \n",
    "    # Where model weights are stored.\n",
    "    MODEL_WEIGHT_PATH = \"./1900_weights\"\n",
    "    \n",
    "else:\n",
    "    # Sync relevant weight files\n",
    "    !aws s3 sync --no-sign-request --quiet s3://unirep-public/64_weights/ 64_weights/\n",
    "    \n",
    "    # Import the mLSTM babbler model\n",
    "    from unirep import babbler64 as babbler\n",
    "    \n",
    "    # Where model weights are stored.\n",
    "    MODEL_WEIGHT_PATH = \"./64_weights\""
   ]
  },
  {
   "cell_type": "markdown",
   "metadata": {},
   "source": [
    "## Data formatting and management"
   ]
  },
  {
   "cell_type": "markdown",
   "metadata": {},
   "source": [
    "Initialize UniRep, also referred to as the \"babbler\" in our code. You need to provide the batch size you will use and the path to the weight directory."
   ]
  },
  {
   "cell_type": "code",
   "execution_count": 3,
   "metadata": {},
   "outputs": [
    {
     "name": "stderr",
     "output_type": "stream",
     "text": [
      "/usr/local/lib/python3.5/dist-packages/h5py/__init__.py:34: FutureWarning: Conversion of the second argument of issubdtype from `float` to `np.floating` is deprecated. In future, it will be treated as `np.float64 == np.dtype(float).type`.\n",
      "  from ._conv import register_converters as _register_converters\n"
     ]
    }
   ],
   "source": [
    "batch_size = 12\n",
    "b = babbler(batch_size=batch_size, model_path=MODEL_WEIGHT_PATH)"
   ]
  },
  {
   "cell_type": "markdown",
   "metadata": {},
   "source": [
    "UniRep needs to receive data in the correct format, a (batch_size, max_seq_len) matrix with integer values, where the integers correspond to an amino acid label at that position, and the end of the sequence is padded with 0s until the max sequence length to form a non-ragged rectangular matrix. We provide a formatting function to translate a string of amino acids into a list of integers with the correct codex:"
   ]
  },
  {
   "cell_type": "markdown",
   "metadata": {},
   "source": [
    "You could use your own data flow as long as you ensure that the data format is obeyed. Alternatively, you can use the data flow we've implemented for UniRep training, which happens in the tensorflow graph. It reads from a file of integer sequences, shuffles them around, collects them into groups of similar length (to minimize padding waste) and pads them to the max_length. Here's how to do that:"
   ]
  },
  {
   "cell_type": "markdown",
   "metadata": {},
   "source": [
    "First, sequences need to be saved in the correct format. Suppose we have a new-line seperated file of amino acid sequences, `seqs.txt`, and we want to format them. Note that training is currently only publicly supported for amino acid sequences less than 275 amino acids as gradient updates for sequences longer than that start to get unwieldy. If you want to train on sequences longer than this, please reach out to us. \n",
    "\n",
    "Sequence formatting can be done as follows:"
   ]
  },
  {
   "cell_type": "code",
   "execution_count": 4,
   "metadata": {
    "collapsed": true
   },
   "outputs": [],
   "source": [
    "# Before you can train your model, \n",
    "with open(\"seqs.txt\", \"r\") as source:\n",
    "    with open(\"formatted.txt\", \"w\") as destination:\n",
    "        for i,seq in enumerate(source):\n",
    "            seq = seq.strip()\n",
    "            if b.is_valid_seq(seq) and len(seq) < 275: \n",
    "                formatted = \",\".join(map(str,b.format_seq(seq)))\n",
    "                destination.write(formatted)\n",
    "                destination.write('\\n')"
   ]
  },
  {
   "cell_type": "markdown",
   "metadata": {},
   "source": [
    "This is what the integer format looks like"
   ]
  },
  {
   "cell_type": "code",
   "execution_count": 5,
   "metadata": {},
   "outputs": [
    {
     "name": "stdout",
     "output_type": "stream",
     "text": [
      "24,1,2,4,13,6,6,21,18,8,13,16,16,14,17,21,16,6,21,5,13,5,16,9,13,3,4,18,7,16,2,13,6,13,6,13,5,15,8,9,13,4,21,8,21,4,18,17,11,8,8,13,4,21,14,16,14,20,14,8,21,16,8,8,21,8,19,13,16,10,11,18,15,2,19,14,5,3,1,4,10,3,5,18,18,4,7,15,1,14,6,13,19,16,10,6,2,8,17,7,18,4,5,5,13,8,19,4,8,2,15,6,16,4,18,6,13,5,8,21,16,9,2,17,6,21,4,13,17,5,18,4,6,5,13,9,17,21,13,3,4,21,6,19,9,18,9,7,3,9,16,19,17,8,15,5,4,10,4,9,13,17,4,15,9,18,4,17,2,3,9,16,6,5,13,7,16,10,21,15,5,3,19,10,10,9,8,14,17,13,5,13,14,16,21,21,14,5,9,3,19,21,7,8,10,7,16,21,7,4,5,14,9,6,4,2,5,3,1,16,21,21,6,18,16,8,15,15,13,17,8,3,13,1,5,6,21,19,4\r\n"
     ]
    }
   ],
   "source": [
    "!head -n1 formatted.txt"
   ]
  },
  {
   "cell_type": "markdown",
   "metadata": {},
   "source": [
    "Notice that by default format_seq does not include the stop symbol (25) at the end of the sequence. This is the correct behavior if you are trying to train a top model, but not if you are training UniRep representations."
   ]
  },
  {
   "cell_type": "markdown",
   "metadata": {},
   "source": [
    "Now we can use a custom function to bucket, batch and pad sequences from `formatted.txt` (which has the correct integer codex after calling `babbler.format_seq()`). The bucketing occurs in the graph. \n",
    "\n",
    "What is bucketing? Specify a lower and upper bound, and interval. All sequences less than lower or greater than upper will be batched together. The interval defines the \"sides\" of buckets between these bounds. Don't pick a small interval for a small dataset because the function will just repeat a sequence if there are not enough to\n",
    "fill a batch. All batches are the size you passed when initializing the babbler.\n",
    "\n",
    "This is also doing a few other things:\n",
    "- Shuffling the sequences by randomly sampling from a 10000 sequence buffer\n",
    "- Automatically padding the sequences with zeros so the returned batch is a perfect rectangle\n",
    "- Automatically repeating the dataset"
   ]
  },
  {
   "cell_type": "code",
   "execution_count": 6,
   "metadata": {
    "collapsed": true
   },
   "outputs": [],
   "source": [
    "bucket_op = b.bucket_batch_pad(\"formatted.txt\", interval=1000) # Large interval"
   ]
  },
  {
   "cell_type": "markdown",
   "metadata": {},
   "source": [
    "Inconveniently, this does not make it easy for a value to be associated with each sequence and not lost during shuffling. You can get around this by just prepending every integer sequence with the sequence label (eg, every sequence would be saved to the file as \"{brightness value}, 24, 1, 5,...\" and then you could just index out the first column after calling the `bucket_op`. Please reach out if you have questions on how to do this."
   ]
  },
  {
   "cell_type": "markdown",
   "metadata": {},
   "source": [
    "Now that we have the `bucket_op`, we can simply `sess.run()` it to get a correctly formatted batch"
   ]
  },
  {
   "cell_type": "code",
   "execution_count": 7,
   "metadata": {},
   "outputs": [
    {
     "name": "stdout",
     "output_type": "stream",
     "text": [
      "[[24  1  7 ...  0  0  0]\n",
      " [24  1 10 ...  4  2 19]\n",
      " [24  1 13 ...  0  0  0]\n",
      " ...\n",
      " [24  1  2 ...  0  0  0]\n",
      " [24  1 17 ...  0  0  0]\n",
      " [24  1 15 ...  0  0  0]]\n",
      "(12, 248)\n"
     ]
    }
   ],
   "source": [
    "with tf.Session() as sess:\n",
    "    sess.run(tf.global_variables_initializer())\n",
    "    batch = sess.run(bucket_op)\n",
    "    \n",
    "print(batch)\n",
    "print(batch.shape)"
   ]
  },
  {
   "cell_type": "markdown",
   "metadata": {},
   "source": [
    "You can look back and see that the batch_size we passed to __init__ is indeed 12, and the second dimension must be the longest sequence included in this batch. Now we have the data flow setup (note that as long as your batch looks like this, you don't need my flow), so we can proceed to implementing the graph. The module returns all the operations needed to feed in sequence and get out trainable representations."
   ]
  },
  {
   "cell_type": "markdown",
   "metadata": {},
   "source": [
    "## Training a top model and a top model + mLSTM."
   ]
  },
  {
   "cell_type": "markdown",
   "metadata": {},
   "source": [
    "First, obtain all of the ops needed to output a representation"
   ]
  },
  {
   "cell_type": "code",
   "execution_count": 8,
   "metadata": {
    "collapsed": true
   },
   "outputs": [],
   "source": [
    "final_hidden, x_placeholder, batch_size_placeholder, seq_length_placeholder, initial_state_placeholder = (\n",
    "    b.get_rep_ops())\n",
    "logits, seqloss, x_placeholder, y_placeholder, batch_size_placeholder, initial_state_placeholder = (\n",
    "    b.get_babbler_ops())"
   ]
  },
  {
   "cell_type": "markdown",
   "metadata": {},
   "source": [
    "`final_hidden` should be a batch_size x rep_dim matrix.\n",
    "\n",
    "Lets say we want to train a basic feed-forward network as the top model, doing regression with MSE loss, and the Adam optimizer. We can do that by:\n",
    "\n",
    "1.  Defining a loss function.\n",
    "\n",
    "2.  Defining an optimizer that's only optimizing variables in the top model.\n",
    "\n",
    "3.  Minimizing the loss inside of a TensorFlow session"
   ]
  },
  {
   "cell_type": "code",
   "execution_count": 9,
   "metadata": {
    "collapsed": true
   },
   "outputs": [],
   "source": [
    "learning_rate=.001\n",
    "optimizer = tf.train.AdamOptimizer(learning_rate)\n",
    "tuning_op = optimizer.minimize(seqloss)"
   ]
  },
  {
   "cell_type": "markdown",
   "metadata": {},
   "source": [
    "We next need to define a function that allows us to calculate the length each sequence in the batch so that we know what index to use to obtain the right \"final\" hidden state"
   ]
  },
  {
   "cell_type": "code",
   "execution_count": 10,
   "metadata": {},
   "outputs": [
    {
     "data": {
      "text/plain": [
       "array([239, 248, 205, 111,  97, 223, 148, 239, 232, 124, 120, 230])"
      ]
     },
     "execution_count": 10,
     "metadata": {},
     "output_type": "execute_result"
    }
   ],
   "source": [
    "def nonpad_len(batch):\n",
    "    nonzero = batch > 0\n",
    "    lengths = np.sum(nonzero, axis=1)\n",
    "    return lengths\n",
    "\n",
    "nonpad_len(batch)"
   ]
  },
  {
   "cell_type": "markdown",
   "metadata": {},
   "source": [
    "We are ready to train. As an illustration, let's learn to predict the number 42 just optimizing the top model."
   ]
  },
  {
   "cell_type": "code",
   "execution_count": 14,
   "metadata": {},
   "outputs": [
    {
     "name": "stdout",
     "output_type": "stream",
     "text": [
      "Iteration 0: 2.9193031787872314\n",
      "Iteration 1: 2.671344757080078\n",
      "Iteration 2: 2.4535562992095947\n",
      "Iteration 3: 2.171612501144409\n",
      "Iteration 4: 1.9359523057937622\n",
      "Iteration 5: 1.7725015878677368\n",
      "Iteration 6: 1.5833114385604858\n",
      "Iteration 7: 1.4367151260375977\n",
      "Iteration 8: 1.2902709245681763\n",
      "Iteration 9: 1.1809102296829224\n",
      "Iteration 10: 1.0812214612960815\n",
      "Iteration 11: 0.9709339141845703\n",
      "Iteration 12: 0.8941434025764465\n",
      "Iteration 13: 0.8071114420890808\n",
      "Iteration 14: 0.7381923794746399\n",
      "Iteration 15: 0.6808188557624817\n",
      "Iteration 16: 0.6151249408721924\n",
      "Iteration 17: 0.5715473294258118\n",
      "Iteration 18: 0.5192060470581055\n",
      "Iteration 19: 0.47662079334259033\n",
      "Iteration 20: 0.44171610474586487\n",
      "Iteration 21: 0.39906564354896545\n",
      "Iteration 22: 0.37184953689575195\n",
      "Iteration 23: 0.3408844470977783\n",
      "Iteration 24: 0.31489357352256775\n",
      "Iteration 25: 0.2936560809612274\n",
      "Iteration 26: 0.2700284719467163\n",
      "Iteration 27: 0.253261923789978\n",
      "Iteration 28: 0.23777692019939423\n",
      "Iteration 29: 0.22080981731414795\n",
      "Iteration 30: 0.20693780481815338\n",
      "Iteration 31: 0.19265520572662354\n",
      "Iteration 32: 0.18089008331298828\n",
      "Iteration 33: 0.17386090755462646\n",
      "Iteration 34: 0.1619231402873993\n",
      "Iteration 35: 0.15441668033599854\n",
      "Iteration 36: 0.14390988647937775\n",
      "Iteration 37: 0.13758035004138947\n",
      "Iteration 38: 0.1339535415172577\n",
      "Iteration 39: 0.12455175071954727\n",
      "Iteration 40: 0.12052158266305923\n",
      "Iteration 41: 0.11170346289873123\n",
      "Iteration 42: 0.10826181620359421\n",
      "Iteration 43: 0.10596366971731186\n",
      "Iteration 44: 0.0985339879989624\n",
      "Iteration 45: 0.09646618366241455\n",
      "Iteration 46: 0.08919163793325424\n",
      "Iteration 47: 0.08714407682418823\n",
      "Iteration 48: 0.08553000539541245\n",
      "Iteration 49: 0.07961910963058472\n",
      "Iteration 50: 0.07816887646913528\n",
      "Iteration 51: 0.0721990093588829\n",
      "Iteration 52: 0.07067713886499405\n",
      "Iteration 53: 0.06922373920679092\n",
      "Iteration 54: 0.06459816545248032\n",
      "Iteration 55: 0.06318830698728561\n",
      "Iteration 56: 0.05841844156384468\n",
      "Iteration 57: 0.05710957944393158\n",
      "Iteration 58: 0.05558940768241882\n",
      "Iteration 59: 0.051948294043540955\n",
      "Iteration 60: 0.05047302320599556\n",
      "Iteration 61: 0.046741023659706116\n",
      "Iteration 62: 0.0455208420753479\n",
      "Iteration 63: 0.0440489761531353\n",
      "Iteration 64: 0.04125113785266876\n",
      "Iteration 65: 0.03990562632679939\n",
      "Iteration 66: 0.037230413407087326\n",
      "Iteration 67: 0.03620705381035805\n",
      "Iteration 68: 0.034959178417921066\n",
      "Iteration 69: 0.032952383160591125\n",
      "Iteration 70: 0.031821489334106445\n",
      "Iteration 71: 0.030055522918701172\n",
      "Iteration 72: 0.029235973954200745\n",
      "Iteration 73: 0.028270000591874123\n",
      "Iteration 74: 0.02689204551279545\n",
      "Iteration 75: 0.02594812959432602\n",
      "Iteration 76: 0.02488255500793457\n",
      "Iteration 77: 0.024218924343585968\n",
      "Iteration 78: 0.023526163771748543\n",
      "Iteration 79: 0.022584831342101097\n",
      "Iteration 80: 0.021793603897094727\n",
      "Iteration 81: 0.02120123617351055\n",
      "Iteration 82: 0.020657014101743698\n",
      "Iteration 83: 0.020169630646705627\n",
      "Iteration 84: 0.019512725993990898\n",
      "Iteration 85: 0.01885315030813217\n",
      "Iteration 86: 0.018549351021647453\n",
      "Iteration 87: 0.01810322515666485\n",
      "Iteration 88: 0.017743384465575218\n",
      "Iteration 89: 0.017262747511267662\n",
      "Iteration 90: 0.016705937683582306\n",
      "Iteration 91: 0.016564449295401573\n",
      "Iteration 92: 0.01619071699678898\n",
      "Iteration 93: 0.015909770503640175\n",
      "Iteration 94: 0.015536499209702015\n",
      "Iteration 95: 0.015062873251736164\n",
      "Iteration 96: 0.015010558068752289\n",
      "Iteration 97: 0.014690800569951534\n",
      "Iteration 98: 0.014465119689702988\n",
      "Iteration 99: 0.014157715253531933\n"
     ]
    }
   ],
   "source": [
    "num_iters = 100\n",
    "with tf.Session() as sess:\n",
    "    sess.run(tf.global_variables_initializer())\n",
    "    for i in range(num_iters):\n",
    "        batch = sess.run(bucket_op)\n",
    "        loss_, __, = sess.run([seqloss, tuning_op],\n",
    "                feed_dict={\n",
    "                     x_placeholder: batch,\n",
    "                     y_placeholder: batch,\n",
    "                     batch_size_placeholder: batch_size,\n",
    "                     initial_state_placeholder:b._zero_state\n",
    "                }\n",
    "        )\n",
    "                  \n",
    "        print(\"Iteration {0}: {1}\".format(i, loss_))"
   ]
  },
  {
   "cell_type": "markdown",
   "metadata": {},
   "source": [
    "We can also jointly train the top model and the mLSTM. Note that if using the 1900-unit (full) model, you will need a GPU with at least 16GB RAM. To see a demonstration of joint training with fewer computational resources, please run this notebook using the 64-unit model."
   ]
  },
  {
   "cell_type": "code",
   "execution_count": null,
   "metadata": {
    "collapsed": true
   },
   "outputs": [],
   "source": []
  }
 ],
 "metadata": {
  "kernelspec": {
   "display_name": "Python 3",
   "language": "python",
   "name": "python3"
  },
  "language_info": {
   "codemirror_mode": {
    "name": "ipython",
    "version": 3
   },
   "file_extension": ".py",
   "mimetype": "text/x-python",
   "name": "python",
   "nbconvert_exporter": "python",
   "pygments_lexer": "ipython3",
   "version": "3.5.2"
  }
 },
 "nbformat": 4,
 "nbformat_minor": 2
}
